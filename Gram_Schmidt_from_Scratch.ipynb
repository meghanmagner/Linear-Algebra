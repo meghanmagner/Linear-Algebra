{
  "nbformat": 4,
  "nbformat_minor": 0,
  "metadata": {
    "colab": {
      "provenance": [],
      "authorship_tag": "ABX9TyPREX+U1rK1+jQ7I6B4YAP+",
      "include_colab_link": true
    },
    "kernelspec": {
      "name": "python3",
      "display_name": "Python 3"
    },
    "language_info": {
      "name": "python"
    }
  },
  "cells": [
    {
      "cell_type": "markdown",
      "metadata": {
        "id": "view-in-github",
        "colab_type": "text"
      },
      "source": [
        "<a href=\"https://colab.research.google.com/github/meghanmagner/Linear-Algebra/blob/main/Gram_Schmidt_from_Scratch.ipynb\" target=\"_parent\"><img src=\"https://colab.research.google.com/assets/colab-badge.svg\" alt=\"Open In Colab\"/></a>"
      ]
    },
    {
      "cell_type": "code",
      "execution_count": 1,
      "metadata": {
        "id": "Hf5gzusS1DaG"
      },
      "outputs": [],
      "source": [
        "import matplotlib.pyplot as plt\n",
        "from sympy import Poly\n",
        "import sympy as sym\n",
        "import numpy as np\n",
        "from numpy import c_\n",
        "\n",
        "# We'll specify that x and t are variables:\n",
        "x, t = sym.symbols('x, t')\n",
        "\n",
        "ll = \"loaded\""
      ]
    },
    {
      "cell_type": "markdown",
      "source": [
        "#Let's figure out how to do vector oporations:"
      ],
      "metadata": {
        "id": "Mo9HkT621dFW"
      }
    },
    {
      "cell_type": "code",
      "source": [
        "#create a vector:\n",
        "r1=np.array([1,2,3])\n",
        "r1"
      ],
      "metadata": {
        "colab": {
          "base_uri": "https://localhost:8080/"
        },
        "id": "DayZgBGH1qVy",
        "outputId": "30bde2be-4fc9-423f-f67b-55e9f3d7ade8"
      },
      "execution_count": 3,
      "outputs": [
        {
          "output_type": "execute_result",
          "data": {
            "text/plain": [
              "array([1, 2, 3])"
            ]
          },
          "metadata": {},
          "execution_count": 3
        }
      ]
    },
    {
      "cell_type": "code",
      "source": [
        "#vector arithmetic:\n",
        "-3*r1"
      ],
      "metadata": {
        "colab": {
          "base_uri": "https://localhost:8080/"
        },
        "id": "t9_otr_l2iEM",
        "outputId": "101e44ee-f894-4df0-99c1-b61c835d4ed5"
      },
      "execution_count": 4,
      "outputs": [
        {
          "output_type": "execute_result",
          "data": {
            "text/plain": [
              "array([-3, -6, -9])"
            ]
          },
          "metadata": {},
          "execution_count": 4
        }
      ]
    },
    {
      "cell_type": "code",
      "source": [
        "#vector dog products:\n",
        "r1.dot(r1)"
      ],
      "metadata": {
        "colab": {
          "base_uri": "https://localhost:8080/"
        },
        "id": "ZsN4_JEF2puB",
        "outputId": "e2312393-a301-4c04-fbf5-17938fe0c59c"
      },
      "execution_count": 5,
      "outputs": [
        {
          "output_type": "execute_result",
          "data": {
            "text/plain": [
              "14"
            ]
          },
          "metadata": {},
          "execution_count": 5
        }
      ]
    },
    {
      "cell_type": "code",
      "source": [
        "#magnitude:\n",
        "r1.dot(r1)\n",
        "#need the square root!\n",
        "#sqrt(14)\n",
        "(14)**(0.5)\n",
        "#or\n",
        "np.sqrt(14)"
      ],
      "metadata": {
        "colab": {
          "base_uri": "https://localhost:8080/"
        },
        "id": "qDTknp0h29JQ",
        "outputId": "aaafe9e7-6aab-48d6-f68e-76e291726cf4"
      },
      "execution_count": 8,
      "outputs": [
        {
          "output_type": "execute_result",
          "data": {
            "text/plain": [
              "3.7416573867739413"
            ]
          },
          "metadata": {},
          "execution_count": 8
        }
      ]
    },
    {
      "cell_type": "code",
      "source": [
        "#magnitutde of vector r1:\n",
        "np.sqrt(r1.dot(r1))"
      ],
      "metadata": {
        "colab": {
          "base_uri": "https://localhost:8080/"
        },
        "id": "UQ6GyMTh367K",
        "outputId": "ac1eeffd-f83c-44b7-957b-bf8e61d6047d"
      },
      "execution_count": 9,
      "outputs": [
        {
          "output_type": "execute_result",
          "data": {
            "text/plain": [
              "3.7416573867739413"
            ]
          },
          "metadata": {},
          "execution_count": 9
        }
      ]
    },
    {
      "cell_type": "markdown",
      "source": [
        "# Implement Gram Schmidt on 4 Vectors\n"
      ],
      "metadata": {
        "id": "naD7PHyh4HT9"
      }
    },
    {
      "cell_type": "code",
      "source": [
        "#Original, Random Vectors:\n",
        "r1=np.array([3,0,3,0])\n",
        "r2=np.array([3,2,3,3])\n",
        "r3=np.array([-7,-4,-5,-6])\n",
        "r4=np.array([-7,-3,-11,2])\n",
        "r1, r2, r3, r4"
      ],
      "metadata": {
        "colab": {
          "base_uri": "https://localhost:8080/"
        },
        "id": "rEz9TTTM4OLL",
        "outputId": "c46a5d28-6ee7-44a5-ecc9-21fcce58041e"
      },
      "execution_count": 12,
      "outputs": [
        {
          "output_type": "execute_result",
          "data": {
            "text/plain": [
              "(array([3, 0, 3, 0]),\n",
              " array([3, 2, 3, 3]),\n",
              " array([-7, -4, -5, -6]),\n",
              " array([ -7,  -3, -11,   2]))"
            ]
          },
          "metadata": {},
          "execution_count": 12
        }
      ]
    },
    {
      "cell_type": "markdown",
      "source": [
        "# Process $r_1$"
      ],
      "metadata": {
        "id": "hQwC4OOA5pK1"
      }
    },
    {
      "cell_type": "code",
      "source": [
        "#Choose the r1 vecotr and subtract off the \"Nice\" orthogonal pieces:\n",
        "t1=r1\n",
        "print(\"t1 = \", t1)\n",
        "\n",
        "#find the size of t1:\n",
        "m=np.sqrt(t1.dot(t1))\n",
        "print(\"The size of t1 is\", m)\n",
        "\n",
        "#The nice vector is u1 = t1/m:\n",
        "u1=(1/m)*t1\n",
        "print(\"The nice vector is u1 =\", u1)"
      ],
      "metadata": {
        "colab": {
          "base_uri": "https://localhost:8080/"
        },
        "id": "TmGF8K2M4gdL",
        "outputId": "246e7d83-de6b-42fd-a5a9-fb8271629fab"
      },
      "execution_count": 18,
      "outputs": [
        {
          "output_type": "stream",
          "name": "stdout",
          "text": [
            "t1 =  [3 0 3 0]\n",
            "The size of t1 is 4.242640687119285\n",
            "The nice vector is u1 = [0.70710678 0.         0.70710678 0.        ]\n"
          ]
        }
      ]
    },
    {
      "cell_type": "code",
      "source": [
        "#Sanity Check:\n",
        "print(\"The size of u1 =\", np.sqrt(u1.dot(u1)))"
      ],
      "metadata": {
        "colab": {
          "base_uri": "https://localhost:8080/"
        },
        "id": "SWer7_FF50p5",
        "outputId": "812f165f-eda1-4524-a5f3-b106cb4f07c7"
      },
      "execution_count": 19,
      "outputs": [
        {
          "output_type": "stream",
          "name": "stdout",
          "text": [
            "The size of u1 = 1.0\n"
          ]
        }
      ]
    },
    {
      "cell_type": "markdown",
      "source": [
        "# Process $r_2$"
      ],
      "metadata": {
        "id": "xtUskrRX7Q8f"
      }
    },
    {
      "cell_type": "code",
      "source": [
        "#Choose the r2 vecotr and subtract off the \"Nice\" orthogonal pieces:\n",
        "t2=r2 - r2.dot(u1)*u1\n",
        "print(\"t2 = \", t2)\n",
        "\n",
        "#find the size of t2:\n",
        "m=np.sqrt(t2.dot(t2))\n",
        "print(\"The size of t2 is\", m)\n",
        "\n",
        "#The nice vector is u2 = t2/m:\n",
        "u2=(1/m)*t2\n",
        "print(\"The nice vector is u2 =\", u2)"
      ],
      "metadata": {
        "colab": {
          "base_uri": "https://localhost:8080/"
        },
        "id": "VnAuYYxN7i8E",
        "outputId": "c2435c32-5dc0-4446-fc5b-c74fe1406d50"
      },
      "execution_count": 21,
      "outputs": [
        {
          "output_type": "stream",
          "name": "stdout",
          "text": [
            "t2 =  [3.00000000e+00 2.22044605e-16 3.00000000e+00 4.44089210e-16]\n",
            "The size of t2 is 4.242640687119286\n",
            "The nice vector is u2 = [7.07106781e-01 5.23364153e-17 7.07106781e-01 1.04672831e-16]\n"
          ]
        }
      ]
    },
    {
      "cell_type": "code",
      "source": [
        "#Sanity Check:\n",
        "print(\"The size of u1 =\", np.sqrt(u1.dot(u1)))\n",
        "print(\"The size of u2 =\", np.sqrt(u2.dot(u2)))\n",
        "\n",
        "print(\"u1 . u2=\", u1.dot(u2))"
      ],
      "metadata": {
        "colab": {
          "base_uri": "https://localhost:8080/"
        },
        "id": "GGQfVZRA8fOg",
        "outputId": "027f0b9f-d336-4ac2-c5e7-86212b327567"
      },
      "execution_count": 22,
      "outputs": [
        {
          "output_type": "stream",
          "name": "stdout",
          "text": [
            "The size of u1 = 1.0\n",
            "The size of u2 = 1.0\n",
            "u1 . u2= -5.80620396615762e-17\n"
          ]
        }
      ]
    },
    {
      "cell_type": "markdown",
      "source": [
        "# Process $r_3$"
      ],
      "metadata": {
        "id": "KUtukkLfFt5S"
      }
    },
    {
      "cell_type": "code",
      "source": [
        "#Choose the r3 vecotr and subtract off the \"Nice\" orthogonal pieces:\n",
        "t3=r3 - r3.dot(u1)*u1 - r3.dot(u2)*u2\n",
        "print(\"t3 = \", t3)\n",
        "\n",
        "#find the size of t3:\n",
        "m=np.sqrt(t3.dot(t3))\n",
        "print(\"The size of t3 is\", m)\n",
        "\n",
        "#The nice vector is u3 = t3/m:\n",
        "u3=(1/m)*t3\n",
        "print(\"The nice vector is u3 =\", u3)"
      ],
      "metadata": {
        "colab": {
          "base_uri": "https://localhost:8080/"
        },
        "id": "4FlEAIBRFxxu",
        "outputId": "e729f748-52b9-49bf-ff8e-1dfa1846fff7"
      },
      "execution_count": 26,
      "outputs": [
        {
          "output_type": "stream",
          "name": "stdout",
          "text": [
            "t3 =  [-1.  0.  1.  0.]\n",
            "The size of t3 is 1.4142135623730951\n",
            "The nice vector is u3 = [-0.70710678  0.          0.70710678  0.        ]\n"
          ]
        }
      ]
    },
    {
      "cell_type": "code",
      "source": [
        "#Sanity Check:\n",
        "print(\"The size of u1 =\", np.sqrt(u1.dot(u1)))\n",
        "print(\"The size of u2 =\", np.sqrt(u2.dot(u2)))\n",
        "print(\"The size of u3 =\", np.sqrt(u3.dot(u3)))\n",
        "\n",
        "print(\"u1 . u2=\", u1.dot(u2))\n",
        "print(\"u1 . u3=\", u1.dot(u3))\n",
        "print(\"u2 . u3=\", u2.dot(u3))"
      ],
      "metadata": {
        "colab": {
          "base_uri": "https://localhost:8080/"
        },
        "id": "Uf0eQxCzGcN4",
        "outputId": "ba9bae82-24ac-4a1a-e473-c9a5d227fa28"
      },
      "execution_count": 25,
      "outputs": [
        {
          "output_type": "stream",
          "name": "stdout",
          "text": [
            "The size of u1 = 1.0\n",
            "The size of u2 = 1.0\n",
            "The size of u3 = 0.9999999999999999\n",
            "u1 . u2= -5.80620396615762e-17\n",
            "u1 . u3= 0.0\n",
            "u2 . u3= 0.0\n"
          ]
        }
      ]
    },
    {
      "cell_type": "markdown",
      "source": [
        "# Process $r_4$"
      ],
      "metadata": {
        "id": "GT210iAdG-hN"
      }
    },
    {
      "cell_type": "code",
      "source": [
        "#Choose the r4 vecotr and subtract off the \"Nice\" orthogonal pieces:\n",
        "t4=r4 - r4.dot(u1)*u1 - r4.dot(u2)*u2 - r4.dot(u3)*u3\n",
        "print(\"t4 = \", t4)\n",
        "\n",
        "#find the size of t4:\n",
        "m=np.sqrt(t4.dot(t4))\n",
        "print(\"The size of t4 is\", m)\n",
        "\n",
        "#The nice vector is u4 = t4/m:\n",
        "u4=(1/m)*t4\n",
        "print(\"The nice vector is u4 =\", u4)"
      ],
      "metadata": {
        "colab": {
          "base_uri": "https://localhost:8080/"
        },
        "id": "UoTAhdOcGpdS",
        "outputId": "0fd0c99d-fdf3-4838-b4bf-39dc4d4ed31a"
      },
      "execution_count": 27,
      "outputs": [
        {
          "output_type": "stream",
          "name": "stdout",
          "text": [
            "t4 =  [ 4.4408921e-16 -3.0000000e+00 -4.4408921e-16  2.0000000e+00]\n",
            "The size of t4 is 3.6055512754639896\n",
            "The nice vector is u4 = [ 1.23168186e-16 -8.32050294e-01 -1.23168186e-16  5.54700196e-01]\n"
          ]
        }
      ]
    },
    {
      "cell_type": "code",
      "source": [
        "#Sanity Check:\n",
        "print(\"The size of u1 =\", np.sqrt(u1.dot(u1)))\n",
        "print(\"The size of u2 =\", np.sqrt(u2.dot(u2)))\n",
        "print(\"The size of u3 =\", np.sqrt(u3.dot(u3)))\n",
        "print(\"The size of u4 =\", np.sqrt(u4.dot(u4)))\n",
        "\n",
        "print(\"u1 . u2=\", u1.dot(u2))\n",
        "print(\"u1 . u3=\", u1.dot(u3))\n",
        "print(\"u2 . u3=\", u2.dot(u3))\n",
        "print(\"u1 . u4=\", u1.dot(u4))\n",
        "print(\"u2 . u4=\", u2.dot(u4))\n",
        "print(\"u3 . u4=\", u3.dot(u4))"
      ],
      "metadata": {
        "colab": {
          "base_uri": "https://localhost:8080/"
        },
        "id": "QctaBUAqHe5V",
        "outputId": "178e0b09-7bff-44a3-cfa3-157b8605206c"
      },
      "execution_count": 28,
      "outputs": [
        {
          "output_type": "stream",
          "name": "stdout",
          "text": [
            "The size of u1 = 1.0\n",
            "The size of u2 = 1.0\n",
            "The size of u3 = 0.9999999999999999\n",
            "The size of u4 = 1.0\n",
            "u1 . u2= -5.80620396615762e-17\n",
            "u1 . u3= 0.0\n",
            "u2 . u3= 0.0\n",
            "u1 . u4= -2.220446049250313e-16\n",
            "u2 . u4= 1.451550991539401e-17\n",
            "u3 . u4= -1.7418611898472846e-16\n"
          ]
        }
      ]
    }
  ]
}